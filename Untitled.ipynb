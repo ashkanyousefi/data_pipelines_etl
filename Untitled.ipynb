{
 "cells": [
  {
   "cell_type": "code",
   "execution_count": 1,
   "metadata": {
    "editable": true
   },
   "outputs": [],
   "source": [
    "import psycopg2\n",
    "from sql_queries import create_table_queries, drop_table_queries"
   ]
  },
  {
   "cell_type": "code",
   "execution_count": 2,
   "metadata": {
    "editable": true
   },
   "outputs": [],
   "source": [
    "conn = psycopg2.connect(\"host=127.0.0.1 dbname=sparkifydb user=student password=student\")\n",
    "conn.set_session(autocommit=True)\n",
    "cur = conn.cursor()"
   ]
  },
  {
   "cell_type": "code",
   "execution_count": 5,
   "metadata": {
    "editable": true
   },
   "outputs": [],
   "source": [
    "def drop_tables(cur, conn):\n",
    "    \"\"\"\n",
    "    Drops each table using the queries in `drop_table_queries` list.\n",
    "    \"\"\"\n",
    "    for query in drop_table_queries:\n",
    "        cur.execute(query)\n",
    "        conn.commit()"
   ]
  },
  {
   "cell_type": "code",
   "execution_count": 6,
   "metadata": {
    "editable": true
   },
   "outputs": [],
   "source": [
    "drop_tables(cur, conn)"
   ]
  },
  {
   "cell_type": "code",
   "execution_count": 3,
   "metadata": {
    "editable": true
   },
   "outputs": [],
   "source": [
    "def create_tables(cur, conn):\n",
    "    \"\"\"\n",
    "    Creates each table using the queries in `create_table_queries` list. \n",
    "    \"\"\"\n",
    "    for query in create_table_queries:\n",
    "        print(query)\n",
    "        cur.execute(query)\n",
    "        conn.commit()"
   ]
  },
  {
   "cell_type": "code",
   "execution_count": 7,
   "metadata": {
    "editable": true
   },
   "outputs": [
    {
     "name": "stdout",
     "output_type": "stream",
     "text": [
      "CREATE TABLE songplays (songplay_id  VARCHAR(255), start_time VARCHAR(255), user_id VARCHAR(255), level VARCHAR(255), song_id VARCHAR(255), artist_id VARCHAR(255), session_id VARCHAR(255), location VARCHAR(255), user_agent VARCHAR(255))\n",
      "CREATE TABLE users (user_id VARCHAR(255), first_name VARCHAR(255), last_name VARCHAR(255), gender VARCHAR(255), level VARCHAR(255))\n",
      "CREATE TABLE songs (song_id VARCHAR(255), title VARCHAR(255), artist_id VARCHAR(255), year VARCHAR(255), duration VARCHAR(255))\n",
      "CREATE TABLE artists (artist_id VARCHAR(255), name VARCHAR(255), location VARCHAR(255), latitude VARCHAR(255), longitude VARCHAR(255))\n",
      "CREATE TABLE time (start_time VARCHAR(255), hour VARCHAR(255), day VARCHAR(255), week VARCHAR(255), month VARCHAR(255), year VARCHAR(255), weekday VARCHAR(255))\n"
     ]
    }
   ],
   "source": [
    "create_tables(cur, conn)"
   ]
  },
  {
   "cell_type": "code",
   "execution_count": 9,
   "metadata": {
    "editable": true
   },
   "outputs": [],
   "source": [
    "cur.execute(\"INSERT INTO songplays (songplay_id,start_time) VALUES('1','56')\")"
   ]
  },
  {
   "cell_type": "code",
   "execution_count": 20,
   "metadata": {
    "editable": true
   },
   "outputs": [
    {
     "name": "stdout",
     "output_type": "stream",
     "text": [
      "[('1', '56', None, None, None, None, None, None, None)]\n"
     ]
    }
   ],
   "source": [
    "cur.execute(\"SELECT * FROM songplays\")\n",
    "lt_set = cur.fetchall()\n",
    "print(lt_set)\n",
    "\n",
    "# for row in lt_set:\n",
    "#     print(\"%s, %s\". % (row[\"songplay_id\"], row[\"start_time\"])\n"
   ]
  },
  {
   "cell_type": "code",
   "execution_count": null,
   "metadata": {
    "editable": true
   },
   "outputs": [],
   "source": []
  }
 ],
 "metadata": {
  "kernelspec": {
   "display_name": "Python 3",
   "language": "python",
   "name": "python3"
  },
  "language_info": {
   "codemirror_mode": {
    "name": "ipython",
    "version": 3
   },
   "file_extension": ".py",
   "mimetype": "text/x-python",
   "name": "python",
   "nbconvert_exporter": "python",
   "pygments_lexer": "ipython3",
   "version": "3.6.3"
  }
 },
 "nbformat": 4,
 "nbformat_minor": 4
}
